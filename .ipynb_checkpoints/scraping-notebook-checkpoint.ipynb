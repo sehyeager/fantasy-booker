{
 "cells": [
  {
   "cell_type": "code",
   "execution_count": 1,
   "metadata": {},
   "outputs": [],
   "source": [
    "\n",
    "import pandas as pd\n",
    "import requests\n",
    "from bs4 import BeautifulSoup\n",
    "import scrapy\n",
    "import datetime"
   ]
  },
  {
   "cell_type": "code",
   "execution_count": 20,
   "metadata": {},
   "outputs": [],
   "source": [
    "def cagematch_scraper(number):\n",
    "    res = requests.get(f'https://www.cagematch.net/?id=87&s={number}', headers={'Accept-Encoding': 'identity'})\n",
    "    print(res.status_code)\n",
    "    soup = BeautifulSoup(res.content, 'lxml')\n",
    "    table = soup.find_all(\"tr\")\n",
    "    feuds = []\n",
    "    for row in table[1:]:\n",
    "        feud = {}\n",
    "        feud['promotion'] = row.find_all('td')[1].find('img').attrs['title']\n",
    "        feud['title'] = row.find_all('td')[2].find('a').text\n",
    "        feud['start_date'] = row.find_all('td')[3].text.replace(u'\\xa0', u' ').split('-')[0]\n",
    "        feud['end_date'] = row.find_all('td')[3].text.replace(u'\\xa0', u' ').split('-')[1]\n",
    "        try:\n",
    "            feud['rating'] = float(row.find_all('td')[4].text)\n",
    "        except:\n",
    "            print('something went wrong with the ratings')\n",
    "            break\n",
    "        sub_res = requests.get(url = 'https://www.cagematch.net/?id=87/' \n",
    "                            + row.find_all('td')[2].find('a').attrs['href'],\n",
    "                           headers={'Accept-Encoding': 'identity'})\n",
    "        sub_soup= BeautifulSoup(sub_res.content, 'lxml')\n",
    "        sub_table = sub_soup.find_all('a')\n",
    "        feud['party_1'] = sub_table[81].text\n",
    "        feud['party_2'] = sub_table[82].text\n",
    "        feud['party_3'] = sub_table[83].text\n",
    "        feud['party_4'] = sub_table[84].text\n",
    "        feuds.append(feud)\n",
    "    return feuds"
   ]
  },
  {
   "cell_type": "code",
   "execution_count": 21,
   "metadata": {},
   "outputs": [
    {
     "name": "stdout",
     "output_type": "stream",
     "text": [
      "200\n",
      "200\n",
      "200\n",
      "200\n",
      "200\n",
      "200\n"
     ]
    }
   ],
   "source": [
    "datalist = []\n",
    "for num in [0,100,200,300,400,500]:\n",
    "    datalist.append(pd.DataFrame(cagematch_scraper(num)))\n",
    "df = pd.concat(datalist, axis = 0)\n",
    "df.to_csv('./cagematch_dataframe.csv', index = False)"
   ]
  }
 ],
 "metadata": {
  "kernelspec": {
   "display_name": "Python 3",
   "language": "python",
   "name": "python3"
  },
  "language_info": {
   "codemirror_mode": {
    "name": "ipython",
    "version": 3
   },
   "file_extension": ".py",
   "mimetype": "text/x-python",
   "name": "python",
   "nbconvert_exporter": "python",
   "pygments_lexer": "ipython3",
   "version": "3.8.5"
  }
 },
 "nbformat": 4,
 "nbformat_minor": 4
}
