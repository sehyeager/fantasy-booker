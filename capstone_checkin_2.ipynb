{
 "cells": [
  {
   "cell_type": "markdown",
   "metadata": {},
   "source": [
    "# Capstone Check-In 2\n",
    "\n",
    "## Pro-Wrestling Fantasy Booker"
   ]
  },
  {
   "cell_type": "markdown",
   "metadata": {},
   "source": [
    "## Problem Statement:\n",
    "  I will collect data (via Beautiful Soup) consisting of feuds, participants, durations, and fan ratings of professional wrestling matches from CAGEMATCH.net, an online database of pro wrestling information from across many promotions (including WWE, AEW, New Japan, and many more).\n",
    "  I will then use a regression model, with MSE as my metric, to discover what features of a feud make for the strongest ratings by CAGEMATCH.net users.  With this done, I will use my model to book a three-month season of professional wrestling, taking in to account not repeating feuds to keep viewer's interest.\n",
    "  \n",
    "  "
   ]
  },
  {
   "cell_type": "markdown",
   "metadata": {},
   "source": [
    "## Milestones:\n",
    "  - Collect the data (still working)\n",
    "  - Clean, EDA, and Feature Engineering\n",
    "  - Preliminary modeling (try different regression models!  maybe even a neural network)\n",
    "  - Fine tuning of model\n",
    "  - Book my 3 months of television.  \n",
    "  - Build presentation"
   ]
  },
  {
   "cell_type": "markdown",
   "metadata": {},
   "source": [
    "## Risks\n",
    "  - Web scraping is difficult!  Most of my time is likely going to be spent here.\n",
    "  - Cagematch.net is a site mostly marketed towards German and German-speaking users.  While much of the site is in English, this does affect the demographic of the audience.  "
   ]
  },
  {
   "cell_type": "markdown",
   "metadata": {},
   "source": [
    "## Data-source\n",
    " - https://www.cagematch.net\n",
    " - if cagematch.net falls apart or somehow fails, I can use https://profightdb.com, although the ratings there are purely based on the opinions of Dave Meltzer of the Wrestling Observer Newsletter (widely respected and acknowledged as the top professional wrestling critic, but still: just one person)."
   ]
  }
 ],
 "metadata": {
  "kernelspec": {
   "display_name": "Python 3",
   "language": "python",
   "name": "python3"
  },
  "language_info": {
   "codemirror_mode": {
    "name": "ipython",
    "version": 3
   },
   "file_extension": ".py",
   "mimetype": "text/x-python",
   "name": "python",
   "nbconvert_exporter": "python",
   "pygments_lexer": "ipython3",
   "version": "3.8.5"
  }
 },
 "nbformat": 4,
 "nbformat_minor": 4
}
